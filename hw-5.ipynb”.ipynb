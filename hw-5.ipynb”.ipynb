{
 "cells": [
  {
   "cell_type": "markdown",
   "metadata": {},
   "source": [
    "# 1. Write a jupyter notebook to numerically integrate the following function:  \n",
    "$f(x)=e^{(−2x)}cos(10x)$\n",
    "Over the range [0, pi]."
   ]
  },
  {
   "cell_type": "code",
   "execution_count": 1,
   "metadata": {},
   "outputs": [],
   "source": [
    "%matplotlib inline\n",
    "import numpy as np\n",
    "import matplotlib.pyplot as plt"
   ]
  },
  {
   "cell_type": "markdown",
   "metadata": {},
   "source": [
    "# define the function to integrate\n"
   ]
  },
  {
   "cell_type": "code",
   "execution_count": 2,
   "metadata": {},
   "outputs": [],
   "source": [
    "def func(x):\n",
    "    a = -2.0\n",
    "    b = 10.0\n",
    "    return (np.e)**(a*x) * np.cos(b*x)\n"
   ]
  },
  {
   "cell_type": "markdown",
   "metadata": {},
   "source": [
    "# define the integral"
   ]
  },
  {
   "cell_type": "code",
   "execution_count": 3,
   "metadata": {},
   "outputs": [],
   "source": [
    "def func_integral(x):\n",
    "    a = -2.0\n",
    "    b = 10.0\n",
    "    return (((np.e)**(a*x)*(b*np.sin(b*x)+a*np.cos(b*x)))/(a**2 + b**2))\n"
   ]
  },
  {
   "cell_type": "markdown",
   "metadata": {},
   "source": [
    "# Define the core of the trapezoid method\n"
   ]
  },
  {
   "cell_type": "code",
   "execution_count": 4,
   "metadata": {},
   "outputs": [],
   "source": [
    "def trapezoid_core(f,x,h):\n",
    "    return 0.5*h*(f(x+h) + f(x))"
   ]
  },
  {
   "cell_type": "markdown",
   "metadata": {},
   "source": [
    "# Define a wrapper function to perform the trapezoid method"
   ]
  },
  {
   "cell_type": "code",
   "execution_count": 5,
   "metadata": {},
   "outputs": [],
   "source": [
    "def trapezoid_method(f,a,b,N):\n",
    "    #f == function to integrate\n",
    "    #a == lower limit\n",
    "    #b == upper limit\n",
    "    #N is the number of chunks to use\n",
    "    \n",
    "    #define x values for performing the trapezoid rule\n",
    "    x = np.linspace(a,b,N)\n",
    "    h = x[1]-x[0]\n",
    "    \n",
    "    #define the value of the integral\n",
    "    Fint = 0.0\n",
    "    \n",
    "    #perform the integral using the trapezoid method\n",
    "    for i in range(0,len(x)-1,1):\n",
    "        Fint += trapezoid_core(f,x[i],h)\n",
    "        \n",
    "    #return the answer\n",
    "    return Fint"
   ]
  },
  {
   "cell_type": "markdown",
   "metadata": {},
   "source": [
    "# Define the core of Simpon's Method"
   ]
  },
  {
   "cell_type": "code",
   "execution_count": 6,
   "metadata": {},
   "outputs": [],
   "source": [
    "def simpson_core(f,x,h):\n",
    "    return h*( f(x) + 4*f(x+h) + f(x+2*h))/3."
   ]
  },
  {
   "cell_type": "code",
   "execution_count": 7,
   "metadata": {},
   "outputs": [],
   "source": [
    "def simpsons_method(f, a, b, N):\n",
    "    #f == function to integrate\n",
    "    #a == lower limit\n",
    "    #b == upper limit\n",
    "    #N is the number of chunks to use\n",
    "    \n",
    "    #define x values for performing the Simpson's rule\n",
    "    x = np.linspace(a,b,N)\n",
    "    h = x[1]-x[0]\n",
    "    \n",
    "    #define the value of the integral\n",
    "    Fint = 0.0\n",
    "    \n",
    "    #perform the integral using the trapezoid method\n",
    "    for i in range(0,len(x)-2,2):\n",
    "        Fint += simpson_core(f,x[i],h)\n",
    "    \n",
    "    #apply simpson's rule over the last interval\n",
    "    #if N is even\n",
    "    if((N%2)==0):\n",
    "        Fint += simpson_core(f,x[-2],0.5*h)\n",
    "        \n",
    "    #return the answer\n",
    "    return Fint"
   ]
  },
  {
   "cell_type": "markdown",
   "metadata": {},
   "source": [
    "# Define the romberge integration core"
   ]
  },
  {
   "cell_type": "code",
   "execution_count": 8,
   "metadata": {},
   "outputs": [],
   "source": [
    "def romberg_core(f,a,b,i):\n",
    "    \n",
    "    # we need the difference b-a\n",
    "    h = b-a\n",
    "    \n",
    "    #and the increment between new func evals\n",
    "    dh = h/2.**(i)\n",
    "    \n",
    "    #we need the cofactor\n",
    "    K = h/2.**(i+1)\n",
    "    \n",
    "    #the function evaluations\n",
    "    M = 0.0\n",
    "    for j in range(2**i):\n",
    "        M += f(a + 0.5*dh + j*dh)\n",
    "        \n",
    "    #return the answer\n",
    "    return K*M"
   ]
  },
  {
   "cell_type": "markdown",
   "metadata": {},
   "source": [
    "# Define a wrapper function for Romberg"
   ]
  },
  {
   "cell_type": "code",
   "execution_count": 9,
   "metadata": {},
   "outputs": [],
   "source": [
    "def romberg_integration(f,a,b,tol):\n",
    "    \n",
    "    #define an iterator\n",
    "    i = 0\n",
    "    \n",
    "    #define a max number of iterations\n",
    "    imax = 1000\n",
    "    \n",
    "    #define an error stimate, set to large value\n",
    "    delta = 100.0*np.fabs(tol)\n",
    "    \n",
    "    #set an array of integral answers\n",
    "    I = np.zeros(imax,dtype=float)\n",
    "    \n",
    "    #get the zeroth romberg iteration\n",
    "    I[0] = 0.5*(b-a)*( f(a) + f(b))\n",
    "    \n",
    "    #iterate by 1\n",
    "    i +=1\n",
    "    \n",
    "    while(delta>tol):\n",
    "        \n",
    "        #find this romberg iteration\n",
    "        I[i] = 0.5*I[i-1] + romberg_core(f,a,b,i)\n",
    "        \n",
    "        #compute the new fractional error estimate\n",
    "        delta = np.fabs( (I[i]-I[i-1])/I[i] )\n",
    "        \n",
    "        print(i,I[i],I[i-1],delta)\n",
    "        \n",
    "        if(delta>tol):\n",
    "            \n",
    "            #iterate\n",
    "            i +=1\n",
    "            \n",
    "            #if we've reached the maximum iterations\n",
    "            if(i>imax):\n",
    "                print(\"Max iterations reached\")\n",
    "                raise StopIteration('Stopping iterations after ',i)\n",
    "                \n",
    "    #outside while loop\n",
    "    return I[i]"
   ]
  },
  {
   "cell_type": "markdown",
   "metadata": {},
   "source": [
    "# 2) Use the trapezoid, Simpson’s method, and Romberg integration. When using Romberg integration, specify a tolerance of $1.0^{-6}$"
   ]
  },
  {
   "cell_type": "code",
   "execution_count": null,
   "metadata": {},
   "outputs": [
    {
     "name": "stdout",
     "output_type": "stream",
     "text": [
      "True Answer  0.019194856870544078\n",
      "Trapezoid\n",
      "0.019194899999301393\n",
      "Simpson's Method\n",
      "0.019194800807724875\n",
      "Romberg\n",
      "1 0.7868648494891817 1.5737296989783633 1.0\n",
      "2 0.2974797999211515 0.7868648494891817 1.6451034648327187\n",
      "3 0.1338682162766772 0.2974797999211515 1.222183937270994\n",
      "4 0.07429884868669352 0.1338682162766772 0.8017535754985687\n",
      "5 0.046311294693032426 0.07429884868669352 0.604335382527577\n",
      "6 0.032650759062474666 0.046311294693032426 0.4183834012685401\n",
      "7 0.02589762452336669 0.032650759062474666 0.2607627017302229\n",
      "8 0.022539969341304138 0.02589762452336669 0.14896449641170112\n",
      "9 0.020865846795039833 0.022539969341304138 0.08023266741622354\n",
      "10 0.020029960350517365 0.020865846795039833 0.04173180724748054\n",
      "11 0.019612310745926682 0.020029960350517365 0.021295277746780788\n",
      "12 0.01940355934245707 0.019612310745926682 0.010758407763509734\n",
      "13 0.019299201990079368 0.01940355934245707 0.0054073402843986505\n",
      "14 0.019247027901207855 0.019299201990079368 0.002710760806256154\n",
      "15 0.01922094200360005 0.019247027901207855 0.0013571602059316496\n",
      "16 0.019207899341502896 0.01922094200360005 0.000679025949962741\n",
      "17 0.01920137808213112 0.019207899341502896 0.00033962454902365343\n",
      "18 0.01919811747036432 0.01920137808213112 0.00016984018208200509\n",
      "19 0.019196487168961114 0.01919811747036432 8.49270696694436e-05\n",
      "20 0.019195672019377927 0.019196487168961114 4.246527979663633e-05\n",
      "21 0.019195264444867077 0.019195672019377927 2.1233076106877143e-05\n",
      "22 0.019195060657681284 0.019195264444867077 1.0616647137887419e-05\n",
      "23 0.01919495876410423 0.019195060657681284 5.3083509220934755e-06\n",
      "24 0.019194907817322186 0.01919495876410423 2.6541821678933446e-06\n",
      "25 0.019194882343925607 0.019194907817322186 1.3270931346792993e-06\n"
     ]
    }
   ],
   "source": [
    "x_i = 0.0\n",
    "x_f = 1.0 * np.pi\n",
    "N_Trapezoid = 6171\n",
    "N_simpsons = 276\n",
    "tolerance = 1.0e-6\n",
    "TrapezoidAnswer= trapezoid_method(func,x_i,x_f,N_Trapezoid)\n",
    "SimpsonsAnswer = simpsons_method(func,x_i,x_f,N_simpsons)\n",
    "#RomberAnswer  = romberg_integration(func,x_i,x_f,tolerance)\n",
    "Answer = func_integral(x_f)-func_integral(x_i)\n",
    "print(\"True Answer \",Answer)\n",
    "\n",
    "print(\"Trapezoid\")\n",
    "print(trapezoid_method(func,x_i,x_f,N_Trapezoid))\n",
    "\n",
    "print(\"Simpson's Method\")\n",
    "print(simpsons_method(func,x_i,x_f,N_simpsons))\n",
    "\n",
    "print(\"Romberg\")\n",
    "RI = romberg_integration(func,x_i,x_f,tolerance)\n",
    "print(RI, (RI-Answer)/Answer, tolerance)"
   ]
  },
  {
   "cell_type": "markdown",
   "metadata": {},
   "source": [
    "# 3) How many iterations does Romberg integration take to reach the specified accuracy?\n",
    "\n",
    "It takes 26 iterations. "
   ]
  },
  {
   "cell_type": "markdown",
   "metadata": {},
   "source": [
    "# 4) How many intervals does the trapezoid method need to reach the specified accuracy?\n",
    "\n",
    "It needs 6171 intervals"
   ]
  },
  {
   "cell_type": "markdown",
   "metadata": {},
   "source": [
    "# 5) How many intervals does Simpson’s method need to reach the specified accuracy?\n",
    "\n",
    "It needs 276 intervals\n"
   ]
  }
 ],
 "metadata": {
  "kernelspec": {
   "display_name": "Python 3",
   "language": "python",
   "name": "python3"
  },
  "language_info": {
   "codemirror_mode": {
    "name": "ipython",
    "version": 3
   },
   "file_extension": ".py",
   "mimetype": "text/x-python",
   "name": "python",
   "nbconvert_exporter": "python",
   "pygments_lexer": "ipython3",
   "version": "3.7.6"
  }
 },
 "nbformat": 4,
 "nbformat_minor": 4
}
